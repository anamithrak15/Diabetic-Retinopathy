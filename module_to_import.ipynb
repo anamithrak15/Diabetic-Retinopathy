{
 "cells": [
  {
   "cell_type": "code",
   "execution_count": 1,
   "id": "1858f3fe",
   "metadata": {},
   "outputs": [],
   "source": [
    "import h5py\n",
    "from tensorflow.keras.models import load_model\n",
    "from tensorflow.keras.preprocessing import image\n",
    "import numpy as np\n",
    "import PIL\n",
    "\n",
    "# Load the HDF5 model\n",
    "model_path = r'C:\\Users\\vijju\\OneDrive\\Desktop\\archive\\saved.h5'\n",
    "loaded_model = load_model(model_path)\n"
   ]
  },
  {
   "cell_type": "code",
   "execution_count": null,
   "id": "06015c53",
   "metadata": {},
   "outputs": [],
   "source": []
  },
  {
   "cell_type": "code",
   "execution_count": 7,
   "id": "4c4da39b",
   "metadata": {},
   "outputs": [],
   "source": [
    "def preprocess_image(image_path):\n",
    "    img = image.load_img(image_path, target_size=(224, 224))  # Adjust target_size as per your model requirements\n",
    "    img_array = image.img_to_array(img)\n",
    "    img_array = np.expand_dims(img_array, axis=0)\n",
    "    return img_array\n",
    "def process_image_url(image_path):\n",
    "    processed_image = preprocess_image(image_path)\n",
    "    predictions = loaded_model.predict(processed_image)\n",
    "    predictions=np.argmax(predictions)\n",
    "    output_path = r\"C:\\Users\\vijju\\OneDrive\\Desktop\\archive\\prediction.txt\"\n",
    "    with open(output_path, \"w\") as file:\n",
    "        if predictions == 0:\n",
    "            result = 'Diabetic retinopathy detected'\n",
    "        elif predictions == 1:\n",
    "            result = 'Diabetic retinopathy not detected'\n",
    "        file.write(result)\n",
    "\n",
    "\n",
    "    \n",
    "\n"
   ]
  },
  {
   "cell_type": "code",
   "execution_count": null,
   "id": "036ef565",
   "metadata": {},
   "outputs": [],
   "source": []
  }
 ],
 "metadata": {
  "kernelspec": {
   "display_name": "Python 3 (ipykernel)",
   "language": "python",
   "name": "python3"
  },
  "language_info": {
   "codemirror_mode": {
    "name": "ipython",
    "version": 3
   },
   "file_extension": ".py",
   "mimetype": "text/x-python",
   "name": "python",
   "nbconvert_exporter": "python",
   "pygments_lexer": "ipython3",
   "version": "3.11.4"
  }
 },
 "nbformat": 4,
 "nbformat_minor": 5
}
